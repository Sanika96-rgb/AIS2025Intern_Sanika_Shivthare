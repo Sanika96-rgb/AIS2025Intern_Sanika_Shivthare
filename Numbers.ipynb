{
 "cells": [
  {
   "cell_type": "code",
   "execution_count": null,
   "metadata": {},
   "outputs": [],
   "source": [
    "\n",
    "a = 7\n",
    "b = 3\n",
    "\n",
    "# Addition\n",
    "addition_result = a + b\n",
    "print(f\"Addition: {a} + {b} = {addition_result}\")\n"
   ]
  }
 ],
 "metadata": {
  "language_info": {
   "name": "python"
  }
 },
 "nbformat": 4,
 "nbformat_minor": 2
}
